{
 "cells": [
  {
   "cell_type": "code",
   "execution_count": 1,
   "metadata": {},
   "outputs": [
    {
     "name": "stdout",
     "output_type": "stream",
     "text": [
      "b is greter\n",
      "b is less then c\n"
     ]
    }
   ],
   "source": [
    "a=5\n",
    "b=10\n",
    "c=15\n",
    "if a>b:\n",
    "    print(\"a is greter\")\n",
    "if a>c:\n",
    "    print(\" a is also greter then c\")\n",
    "if b>a:\n",
    "    print(\"b is greter\")\n",
    "if b<c: \n",
    "    print(\"b is less then c\")"
   ]
  },
  {
   "cell_type": "code",
   "execution_count": 2,
   "metadata": {},
   "outputs": [
    {
     "name": "stdout",
     "output_type": "stream",
     "text": [
      "i m taller\n"
     ]
    }
   ],
   "source": [
    "a=10\n",
    "b=15\n",
    "if a>b:\n",
    "    print(\"you a taller then giraffe🦒\")\n",
    "else:\n",
    "    print(\"i m taller\")"
   ]
  },
  {
   "cell_type": "code",
   "execution_count": 3,
   "metadata": {},
   "outputs": [
    {
     "name": "stdout",
     "output_type": "stream",
     "text": [
      "b is greter\n"
     ]
    }
   ],
   "source": [
    "a=5\n",
    "b=10\n",
    "c=15\n",
    "if a>b:\n",
    "    print(\"a is greter\")\n",
    "elif a>c:\n",
    "    print(\" a is also greter then c\")\n",
    "elif b>a:\n",
    "    print(\"b is greter\")\n",
    "elif c>a: \n",
    "    print(\"c is greter\")\n",
    "else:\n",
    "    print(\"number is out of range😒\")\n",
    "    "
   ]
  },
  {
   "cell_type": "code",
   "execution_count": 5,
   "metadata": {},
   "outputs": [
    {
     "name": "stdout",
     "output_type": "stream",
     "text": [
      "num is positive\n"
     ]
    }
   ],
   "source": [
    "num=15\n",
    "if num>=0:\n",
    "    if num==0:\n",
    "        print(\"num is zero\")\n",
    "    else:\n",
    "        print(\"num is positive\")\n",
    "else:\n",
    "    print(\"num is negative\")"
   ]
  },
  {
   "cell_type": "code",
   "execution_count": 1,
   "metadata": {},
   "outputs": [
    {
     "name": "stdout",
     "output_type": "stream",
     "text": [
      "password is invalid😒\n"
     ]
    }
   ],
   "source": [
    "username=input('enter your name')\n",
    "email=input('enter your email')\n",
    "pwd=input('enter new password')\n",
    "pwd2=input('confirm your password')\n",
    "\n",
    "if len(username)>=4 and len(username)<=15:\n",
    "    if'@' in email and email.islower() and len(email)>10:\n",
    "        if len(pwd)>=6 and pwd!=username:\n",
    "            if pwd==pwd2:\n",
    "                print(\"hurray😍\")\n",
    "            else:\n",
    "                print(\"password is not match😒\")\n",
    "        else:\n",
    "            print(\"password is invalid😒\")\n",
    "    else:\n",
    "        print(\"email is invalid😒\")\n",
    "else:\n",
    "    print(\"username is invalid😒\")\n",
    "    \n",
    "            \n"
   ]
  },
  {
   "cell_type": "code",
   "execution_count": 16,
   "metadata": {},
   "outputs": [
    {
     "name": "stdout",
     "output_type": "stream",
     "text": [
      "babu\n",
      "['raju', 'ranjeet', 'aditya', 'pavan', 'sarita', 'prachi', 'ankita', 'nancy']\n",
      "['ram', 'babu', 'raju', 'shyam', 'ranjeet', 'kamal', 'aditya', 'khitiz', 'pavan', 'kavita', 'sarita', 'manshi', 'prachi', 'neha', 'ankita', 'sandya', 'nancy']\n",
      "['sarita', 'manshi', 'prachi', 'neha', 'ankita', 'sandya', 'nancy']\n",
      "['ram', 'babu', 'raju', 'shyam', 'ranjeet', 'kamal', 'aditya', 'khitiz', 'pavan', 'kavita']\n",
      "babu\n",
      "['ram', 'babu', 'raju', 'shyam', 'ranjeet', 'kamal', 'aditya', 'khitiz', 'pavan', 'kavita', 'sarita', 'manshi', 'prachi', 'neha', 'ankita', 'sandya', 'nancy']\n"
     ]
    }
   ],
   "source": [
    "my_list = [\"ram\",\"babu\",\"raju\",\"shyam\",\"ranjeet\",\"kamal\",\"aditya\",\"khitiz\",\"pavan\",\"kavita\",\"sarita\",\"manshi\",\"prachi\",\"neha\",\"ankita\",\"sandya\",\"nancy\"]\n",
    "\n",
    "print(my_list[1])\n",
    "print(my_list[2:18:2])\n",
    "print(my_list[:])\n",
    "print(my_list[10:])\n",
    "print(my_list[:10])\n",
    "print(my_list[-16])\n",
    "print(my_list)\n"
   ]
  },
  {
   "cell_type": "code",
   "execution_count": null,
   "metadata": {},
   "outputs": [],
   "source": []
  },
  {
   "cell_type": "code",
   "execution_count": null,
   "metadata": {},
   "outputs": [],
   "source": []
  }
 ],
 "metadata": {
  "kernelspec": {
   "display_name": "Python 3",
   "language": "python",
   "name": "python3"
  },
  "language_info": {
   "codemirror_mode": {
    "name": "ipython",
    "version": 3
   },
   "file_extension": ".py",
   "mimetype": "text/x-python",
   "name": "python",
   "nbconvert_exporter": "python",
   "pygments_lexer": "ipython3",
   "version": "3.10.10"
  },
  "orig_nbformat": 4,
  "vscode": {
   "interpreter": {
    "hash": "a42d6bdb4a0b9e59de02b35b8cf70b7761078a95036a2a10c61cbebee154258c"
   }
  }
 },
 "nbformat": 4,
 "nbformat_minor": 2
}
