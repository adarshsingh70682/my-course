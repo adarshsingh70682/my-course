{
 "cells": [
  {
   "cell_type": "code",
   "execution_count": 1,
   "metadata": {},
   "outputs": [
    {
     "name": "stdout",
     "output_type": "stream",
     "text": [
      "{'name': 'john', 'age': 25, 'courses': ['math', 'compsci'], 'phone': '555-5555', 'address': '123 main st', 'city': 'new york'}\n"
     ]
    }
   ],
   "source": [
    "student={'name':'john',\n",
    "         'age':25,\n",
    "         'courses':['math','compsci'],\n",
    "         'phone':'555-5555',\n",
    "         'address':'123 main st',\n",
    "         'city':'new york',}\n",
    "print(student)"
   ]
  },
  {
   "cell_type": "code",
   "execution_count": 2,
   "metadata": {},
   "outputs": [
    {
     "name": "stdout",
     "output_type": "stream",
     "text": [
      "john\n",
      "['math', 'compsci']\n"
     ]
    }
   ],
   "source": [
    "#first method to acces dictionary value\n",
    "print(student['name'])\n",
    "print(student['courses'])"
   ]
  },
  {
   "cell_type": "code",
   "execution_count": 3,
   "metadata": {},
   "outputs": [
    {
     "name": "stdout",
     "output_type": "stream",
     "text": [
      "john\n",
      "555-5555\n"
     ]
    }
   ],
   "source": [
    "#second method to acces dictionary value\n",
    "print(student.get('name'))\n",
    "print(student.get('phone'))\n"
   ]
  },
  {
   "cell_type": "code",
   "execution_count": 4,
   "metadata": {},
   "outputs": [
    {
     "name": "stdout",
     "output_type": "stream",
     "text": [
      "{'name': 'john', 'age': 25, 'courses': ['math', 'compsci'], 'phone': '555-5555', 'address': '123 main st', 'city': 'new york', 'school': 'MIT'}\n"
     ]
    }
   ],
   "source": [
    "#to add a new key value pair\n",
    "student['school']='MIT'\n",
    "print(student)"
   ]
  },
  {
   "cell_type": "code",
   "execution_count": 6,
   "metadata": {},
   "outputs": [
    {
     "name": "stdout",
     "output_type": "stream",
     "text": [
      "{'name': 'john', 'age': 25, 'courses': ['math', 'compsci'], 'phone': '555-5555', 'address': '123 main st', 'city': 'new york', 'school': 'MIT', 'father name': 'deny', 'mother name': 'merry'}\n"
     ]
    }
   ],
   "source": [
    "student['father name']='deny'\n",
    "student['mother name']='merry'\n",
    "print(student)"
   ]
  },
  {
   "cell_type": "code",
   "execution_count": 7,
   "metadata": {},
   "outputs": [
    {
     "name": "stdout",
     "output_type": "stream",
     "text": [
      "{'name': 'radhe krishna', 'male lead': 'sumedh', 'female lead': 'malika singh', 'total season': 2, 'rating': 4.5, 'ott': 'hotstar'}\n"
     ]
    }
   ],
   "source": [
    "show={'name':'radhe krishna',\n",
    "      'male lead':'sumedh',\n",
    "      'female lead':'malika singh',\n",
    "      'total season':2,\n",
    "      'rating':4.5,\n",
    "      'ott':'hotstar'}\n",
    "print(show)"
   ]
  },
  {
   "cell_type": "code",
   "execution_count": 20,
   "metadata": {},
   "outputs": [
    {
     "name": "stdout",
     "output_type": "stream",
     "text": [
      "name\n",
      "male lead\n",
      "female lead\n",
      "total season\n",
      "rating\n",
      "ott\n"
     ]
    }
   ],
   "source": [
    "#to print key using loop\n",
    "for k in show.keys():\n",
    "    print(k)"
   ]
  },
  {
   "cell_type": "code",
   "execution_count": 15,
   "metadata": {},
   "outputs": [
    {
     "name": "stdout",
     "output_type": "stream",
     "text": [
      "name radhe krishna\n",
      "male lead sumedh\n",
      "female lead malika singh\n",
      "total season 2\n",
      "rating 4.5\n",
      "ott hotstar\n"
     ]
    }
   ],
   "source": [
    "#to print key and value both using loop\n",
    "for k,v in show.items():\n",
    "    print(k,v)"
   ]
  },
  {
   "cell_type": "code",
   "execution_count": 2,
   "metadata": {},
   "outputs": [
    {
     "ename": "NameError",
     "evalue": "name 'show' is not defined",
     "output_type": "error",
     "traceback": [
      "\u001b[1;31m---------------------------------------------------------------------------\u001b[0m",
      "\u001b[1;31mNameError\u001b[0m                                 Traceback (most recent call last)",
      "Cell \u001b[1;32mIn[2], line 1\u001b[0m\n\u001b[1;32m----> 1\u001b[0m \u001b[39mfor\u001b[39;00m v \u001b[39min\u001b[39;00m show\u001b[39m.\u001b[39mvalues():\n\u001b[0;32m      2\u001b[0m     \u001b[39mprint\u001b[39m(v)\n",
      "\u001b[1;31mNameError\u001b[0m: name 'show' is not defined"
     ]
    }
   ],
   "source": [
    "for v in show.values():\n",
    "    print(v)"
   ]
  },
  {
   "cell_type": "code",
   "execution_count": null,
   "metadata": {},
   "outputs": [],
   "source": []
  },
  {
   "cell_type": "code",
   "execution_count": null,
   "metadata": {},
   "outputs": [],
   "source": []
  },
  {
   "cell_type": "code",
   "execution_count": null,
   "metadata": {},
   "outputs": [],
   "source": []
  }
 ],
 "metadata": {
  "kernelspec": {
   "display_name": "Python 3",
   "language": "python",
   "name": "python3"
  },
  "language_info": {
   "codemirror_mode": {
    "name": "ipython",
    "version": 3
   },
   "file_extension": ".py",
   "mimetype": "text/x-python",
   "name": "python",
   "nbconvert_exporter": "python",
   "pygments_lexer": "ipython3",
   "version": "3.10.10"
  },
  "orig_nbformat": 4
 },
 "nbformat": 4,
 "nbformat_minor": 2
}
