{
 "cells": [
  {
   "cell_type": "code",
   "execution_count": 39,
   "metadata": {},
   "outputs": [
    {
     "name": "stdout",
     "output_type": "stream",
     "text": [
      "['whatsapp', 'github', 'camera', 'camera', 'instagram', 'snapchat', 'spotify', 'truecaller', 'gallery', 'amazon', 'meet', 'photos', 'gmail', 'chalo', 'twitter', 'telegram', 'anydesk', 'binance', 'calculator', 'facebook', 'fampay', 'paytm', 'gpay', 'dominos', 'kite', 'meesho', 'mpocket', 'ola', 'youtube']\n"
     ]
    }
   ],
   "source": [
    "apps=[\"whatsapp\",\"github\",\"camera\",\"camera\",\"instagram\",\"snapchat\",\"spotify\",\"truecaller\",\"gallery\",\"amazon\",\"meet\",\"photos\",\"gmail\",\"chalo\",\"twitter\",\"telegram\",\"anydesk\",\"binance\",\"calculator\",\"facebook\",\"fampay\",\"paytm\",\"gpay\",\"dominos\",\"kite\",\"meesho\",\"mpocket\",\"ola\",\"youtube\"]\n",
    "print(apps)\n"
   ]
  },
  {
   "cell_type": "code",
   "execution_count": 40,
   "metadata": {},
   "outputs": [
    {
     "data": {
      "text/plain": [
       "list"
      ]
     },
     "execution_count": 40,
     "metadata": {},
     "output_type": "execute_result"
    }
   ],
   "source": [
    "type(apps)"
   ]
  },
  {
   "cell_type": "code",
   "execution_count": 41,
   "metadata": {},
   "outputs": [
    {
     "name": "stdout",
     "output_type": "stream",
     "text": [
      "29\n"
     ]
    }
   ],
   "source": [
    "print(len(apps))"
   ]
  },
  {
   "cell_type": "code",
   "execution_count": 42,
   "metadata": {},
   "outputs": [
    {
     "name": "stdout",
     "output_type": "stream",
     "text": [
      "['whatsapp', 'github', 'camera', 'camera', 'instagram', 'snapchat', 'spotify', 'truecaller', 'gallery', 'amazon', 'meet', 'photos', 'gmail', 'chalo', 'twitter', 'telegram', 'anydesk', 'binance', 'calculator', 'facebook', 'fampay', 'paytm', 'gpay', 'dominos', 'kite', 'meesho', 'mpocket', 'ola', 'youtube', 'microsoft office']\n"
     ]
    }
   ],
   "source": [
    "apps.append('microsoft office')\n",
    "print(apps)"
   ]
  },
  {
   "cell_type": "code",
   "execution_count": 43,
   "metadata": {},
   "outputs": [
    {
     "name": "stdout",
     "output_type": "stream",
     "text": [
      "['whatsapp', 'github', 'github', 'camera', 'camera', 'instagram', 'snapchat', 'spotify', 'truecaller', 'gallery', 'amazon', 'meet', 'photos', 'gmail', 'chalo', 'twitter', 'telegram', 'anydesk', 'binance', 'calculator', 'facebook', 'fampay', 'paytm', 'gpay', 'dominos', 'kite', 'meesho', 'mpocket', 'ola', 'youtube', 'microsoft office']\n"
     ]
    }
   ],
   "source": [
    "apps.insert(1,'github')\n",
    "print(apps)"
   ]
  },
  {
   "cell_type": "code",
   "execution_count": 44,
   "metadata": {},
   "outputs": [
    {
     "name": "stdout",
     "output_type": "stream",
     "text": [
      "['whatsapp', 'github', 'github', 'camera', 'instagram', 'snapchat', 'spotify', 'truecaller', 'gallery', 'amazon', 'meet', 'photos', 'gmail', 'chalo', 'twitter', 'telegram', 'anydesk', 'binance', 'calculator', 'facebook', 'fampay', 'paytm', 'gpay', 'dominos', 'kite', 'meesho', 'mpocket', 'ola', 'youtube', 'microsoft office']\n"
     ]
    }
   ],
   "source": [
    "apps.remove('camera')\n",
    "print(apps)\n"
   ]
  },
  {
   "cell_type": "code",
   "execution_count": 45,
   "metadata": {},
   "outputs": [
    {
     "name": "stdout",
     "output_type": "stream",
     "text": [
      "['whatsapp', 'github', 'github', 'camera', 'instagram', 'snapchat', 'spotify', 'truecaller', 'gallery', 'amazon', 'meet', 'photos', 'gmail', 'chalo', 'twitter', 'telegram', 'anydesk', 'binance', 'calculator', 'facebook', 'fampay', 'paytm', 'gpay', 'dominos', 'kite', 'meesho', 'mpocket', 'ola', 'youtube', 'microsoft office']\n"
     ]
    }
   ],
   "source": [
    "apps.clear\n",
    "print(apps)"
   ]
  },
  {
   "cell_type": "code",
   "execution_count": 46,
   "metadata": {},
   "outputs": [
    {
     "name": "stdout",
     "output_type": "stream",
     "text": [
      "[]\n"
     ]
    }
   ],
   "source": [
    "app = ['githun','whatsapp']\n",
    "app.clear()\n",
    "print(app)"
   ]
  },
  {
   "cell_type": "code",
   "execution_count": 47,
   "metadata": {},
   "outputs": [],
   "source": [
    "# apps.reverse()\n",
    "# print(apps)"
   ]
  },
  {
   "cell_type": "code",
   "execution_count": 48,
   "metadata": {},
   "outputs": [
    {
     "name": "stdout",
     "output_type": "stream",
     "text": [
      "['whatsapp', 'github', 'camera', 'instagram', 'snapchat', 'spotify', 'truecaller', 'gallery', 'amazon', 'meet', 'photos', 'gmail', 'chalo', 'twitter', 'telegram', 'anydesk', 'binance', 'calculator', 'facebook', 'fampay', 'paytm', 'gpay', 'dominos', 'kite', 'meesho', 'mpocket', 'ola', 'youtube', 'microsoft office']\n"
     ]
    }
   ],
   "source": [
    "apps.pop(2)\n",
    "print(apps)\n"
   ]
  },
  {
   "cell_type": "code",
   "execution_count": 49,
   "metadata": {},
   "outputs": [
    {
     "name": "stdout",
     "output_type": "stream",
     "text": [
      "['amazon', 'anydesk', 'binance', 'calculator', 'camera', 'chalo', 'dominos', 'facebook', 'fampay', 'gallery', 'github', 'gmail', 'gpay', 'instagram', 'kite', 'meesho', 'meet', 'microsoft office', 'mpocket', 'ola', 'paytm', 'photos', 'snapchat', 'spotify', 'telegram', 'truecaller', 'twitter', 'whatsapp', 'youtube']\n",
      "29\n"
     ]
    }
   ],
   "source": [
    "apps.sort()\n",
    "print(apps)\n",
    "print(len(apps))\n"
   ]
  },
  {
   "cell_type": "code",
   "execution_count": 52,
   "metadata": {},
   "outputs": [
    {
     "name": "stdout",
     "output_type": "stream",
     "text": [
      "4\n"
     ]
    }
   ],
   "source": [
    "a=[1,2,4,3,2]\n",
    "sum=max(a)\n",
    "print(sum)"
   ]
  },
  {
   "cell_type": "code",
   "execution_count": 1,
   "metadata": {},
   "outputs": [
    {
     "name": "stdout",
     "output_type": "stream",
     "text": [
      "1\n"
     ]
    }
   ],
   "source": [
    "a=[1,2,4,3,2]\n",
    "sum=min(a)\n",
    "print(sum)"
   ]
  },
  {
   "cell_type": "code",
   "execution_count": 4,
   "metadata": {},
   "outputs": [
    {
     "name": "stdout",
     "output_type": "stream",
     "text": [
      "c\n"
     ]
    }
   ],
   "source": [
    "a = chr(99)\n",
    "print(a)"
   ]
  },
  {
   "cell_type": "code",
   "execution_count": 5,
   "metadata": {},
   "outputs": [
    {
     "name": "stdout",
     "output_type": "stream",
     "text": [
      "python program\n"
     ]
    }
   ],
   "source": [
    "#concatenation\n",
    "a=\"python\"\n",
    "b=\"program\"\n",
    "print(a+\" \"+b)"
   ]
  },
  {
   "cell_type": "code",
   "execution_count": 6,
   "metadata": {},
   "outputs": [
    {
     "name": "stdout",
     "output_type": "stream",
     "text": [
      "hello! my name is Adarsh\n"
     ]
    }
   ],
   "source": [
    "x =\"hello!\"\n",
    "y =\"my name is Adarsh\"\n",
    "print(x+\" \"+y)"
   ]
  },
  {
   "cell_type": "code",
   "execution_count": 7,
   "metadata": {},
   "outputs": [
    {
     "data": {
      "text/plain": [
       "'ALPHABET'"
      ]
     },
     "execution_count": 7,
     "metadata": {},
     "output_type": "execute_result"
    }
   ],
   "source": [
    "x = 'alphabet'\n",
    "x.upper()"
   ]
  },
  {
   "cell_type": "code",
   "execution_count": 9,
   "metadata": {},
   "outputs": [
    {
     "data": {
      "text/plain": [
       "'alphabet'"
      ]
     },
     "execution_count": 9,
     "metadata": {},
     "output_type": "execute_result"
    }
   ],
   "source": [
    "x.lower()"
   ]
  },
  {
   "cell_type": "code",
   "execution_count": 11,
   "metadata": {},
   "outputs": [
    {
     "data": {
      "text/plain": [
       "'Alphabet'"
      ]
     },
     "execution_count": 11,
     "metadata": {},
     "output_type": "execute_result"
    }
   ],
   "source": [
    "x.capitalize()"
   ]
  },
  {
   "cell_type": "code",
   "execution_count": 12,
   "metadata": {},
   "outputs": [
    {
     "data": {
      "text/plain": [
       "'Alphabet'"
      ]
     },
     "execution_count": 12,
     "metadata": {},
     "output_type": "execute_result"
    }
   ],
   "source": [
    "x.title()"
   ]
  },
  {
   "cell_type": "code",
   "execution_count": 14,
   "metadata": {},
   "outputs": [
    {
     "data": {
      "text/plain": [
       "'alphabet'"
      ]
     },
     "execution_count": 14,
     "metadata": {},
     "output_type": "execute_result"
    }
   ],
   "source": [
    "x.casefold()"
   ]
  },
  {
   "cell_type": "code",
   "execution_count": 21,
   "metadata": {},
   "outputs": [
    {
     "name": "stdout",
     "output_type": "stream",
     "text": [
      "y\n"
     ]
    }
   ],
   "source": [
    "x = \"python\"\n",
    "y = int(input(\"enter a number\"))\n",
    "print(x[y])"
   ]
  },
  {
   "cell_type": "code",
   "execution_count": 22,
   "metadata": {},
   "outputs": [
    {
     "data": {
      "text/plain": [
       "['this', 'is', 'sentence']"
      ]
     },
     "execution_count": 22,
     "metadata": {},
     "output_type": "execute_result"
    }
   ],
   "source": [
    "x='this is sentence'\n",
    "x.split()"
   ]
  },
  {
   "cell_type": "code",
   "execution_count": 26,
   "metadata": {},
   "outputs": [
    {
     "name": "stdout",
     "output_type": "stream",
     "text": [
      "johny johny yes papa; \n",
      "eating suger no papa; \n",
      "telling lies? no papa;\n",
      "open your mouth; hahaha😂🤣 \n"
     ]
    }
   ],
   "source": [
    "poem='''johny johny yes papa; \n",
    "eating suger no papa; \n",
    "telling lies? no papa;\n",
    "open your mouth; hahaha😂🤣 '''\n",
    "print(poem)"
   ]
  },
  {
   "cell_type": "code",
   "execution_count": 27,
   "metadata": {},
   "outputs": [
    {
     "data": {
      "text/plain": [
       "4"
      ]
     },
     "execution_count": 27,
     "metadata": {},
     "output_type": "execute_result"
    }
   ],
   "source": [
    "len(poem.splitlines())"
   ]
  },
  {
   "cell_type": "code",
   "execution_count": 29,
   "metadata": {},
   "outputs": [
    {
     "name": "stdout",
     "output_type": "stream",
     "text": [
      "ohny ohny yes papa; \n",
      "eating suger no papa; \n",
      "telling lies? no papa;\n",
      "open your mouth; hahaha😂🤣 \n"
     ]
    }
   ],
   "source": [
    "a = poem.replace('j','')\n",
    "print(a)"
   ]
  },
  {
   "cell_type": "code",
   "execution_count": 30,
   "metadata": {},
   "outputs": [
    {
     "name": "stdout",
     "output_type": "stream",
     "text": [
      "j*hny j*hny y*s p*p*; \n",
      "**t*ng s*g*r n* p*p*; \n",
      "t*ll*ng l**s? n* p*p*;\n",
      "*p*n y**r m**th; h*h*h*😂🤣 \n"
     ]
    }
   ],
   "source": [
    "b= poem.replace('a','*').replace('e','*').replace('i','*').replace('o','*').replace('u','*')\n",
    "print(b)"
   ]
  },
  {
   "cell_type": "code",
   "execution_count": 3,
   "metadata": {},
   "outputs": [
    {
     "data": {
      "text/plain": [
       "4"
      ]
     },
     "execution_count": 3,
     "metadata": {},
     "output_type": "execute_result"
    }
   ],
   "source": [
    "a=\"hello world\"\n",
    "a.find('o')"
   ]
  },
  {
   "cell_type": "code",
   "execution_count": null,
   "metadata": {},
   "outputs": [],
   "source": []
  }
 ],
 "metadata": {
  "kernelspec": {
   "display_name": "Python 3",
   "language": "python",
   "name": "python3"
  },
  "language_info": {
   "codemirror_mode": {
    "name": "ipython",
    "version": 3
   },
   "file_extension": ".py",
   "mimetype": "text/x-python",
   "name": "python",
   "nbconvert_exporter": "python",
   "pygments_lexer": "ipython3",
   "version": "3.10.10"
  },
  "orig_nbformat": 4
 },
 "nbformat": 4,
 "nbformat_minor": 2
}
