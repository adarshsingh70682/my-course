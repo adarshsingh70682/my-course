{
 "cells": [
  {
   "cell_type": "code",
   "execution_count": 1,
   "metadata": {},
   "outputs": [
    {
     "name": "stdout",
     "output_type": "stream",
     "text": [
      "whatsapp|8\n",
      "github|6\n",
      "camera|6\n",
      "instagram|9\n",
      "snapchat|8\n",
      "spotify|7\n",
      "truecaller|10\n",
      "gallery|7\n",
      "amazon|6\n",
      "meet|4\n",
      "photos|6\n",
      "gmail|5\n",
      "chalo|5\n",
      "twitter|7\n",
      "telegram|8\n",
      "anydesk|7\n",
      "binance|7\n",
      "calculator|10\n",
      "facebook|8\n",
      "fampay|6\n",
      "paytm|5\n",
      "gpay|4\n",
      "dominos|7\n",
      "kite|4\n",
      "meesho|6\n",
      "mpocket|7\n",
      "ola|3\n",
      "youtube|7\n"
     ]
    }
   ],
   "source": [
    "apps = (\"whatsapp\",\"github\",\"camera\",\"instagram\",\"snapchat\",\"spotify\",\"truecaller\",\"gallery\",\"amazon\",\"meet\",\"photos\",\"gmail\",\"chalo\",\"twitter\",\"telegram\",\"anydesk\",\"binance\",\"calculator\",\"facebook\",\"fampay\",\"paytm\",\"gpay\",\"dominos\",\"kite\",\"meesho\",\"mpocket\",\"ola\",\"youtube\")\n",
    "\n",
    "for apps in  apps:\n",
    "    \n",
    "    print(f'{apps}|{len(apps)}')\n",
    "\n"
   ]
  },
  {
   "cell_type": "code",
   "execution_count": 4,
   "metadata": {},
   "outputs": [
    {
     "name": "stdout",
     "output_type": "stream",
     "text": [
      "p\n",
      "y\n",
      "t\n",
      "h\n",
      "o\n",
      "n\n"
     ]
    }
   ],
   "source": [
    "x =('python')\n",
    "for i in x :\n",
    "    print(i)"
   ]
  },
  {
   "cell_type": "code",
   "execution_count": 14,
   "metadata": {},
   "outputs": [
    {
     "name": "stdout",
     "output_type": "stream",
     "text": [
      "nanananana\n",
      "nananananana\n",
      "nanananananana\n",
      "nananananananana\n",
      "nanananananananana\n"
     ]
    }
   ],
   "source": [
    "for i in range(5,10):\n",
    "    print(i*'na')\n"
   ]
  },
  {
   "cell_type": "code",
   "execution_count": 16,
   "metadata": {},
   "outputs": [
    {
     "name": "stdout",
     "output_type": "stream",
     "text": [
      "50na51na52na53na54na55na56na57na58na59na60na61na62na63na64na65na66na67na68na69na70na71na72na73na74na75na76na77na78na79na80na81na82na83na84na85na86na87na88na89na90na91na92na93na94na95na96na97na98na99na"
     ]
    }
   ],
   "source": [
    "for x in range(50,100):\n",
    "    print(x,end=\"na\")\n"
   ]
  },
  {
   "cell_type": "code",
   "execution_count": 17,
   "metadata": {},
   "outputs": [
    {
     "name": "stdout",
     "output_type": "stream",
     "text": [
      "(0, 10)\n",
      "(1, 20)\n",
      "(2, 30)\n",
      "(3, 40)\n",
      "(4, 50)\n",
      "(5, 60)\n",
      "(6, 70)\n",
      "(7, 80)\n",
      "(8, 90)\n",
      "(9, 100)\n"
     ]
    }
   ],
   "source": [
    "data=[10,20,30,40,50,60,70,80,90,100]\n",
    "for i in enumerate(data):\n",
    "    print(i)"
   ]
  },
  {
   "cell_type": "code",
   "execution_count": 18,
   "metadata": {},
   "outputs": [
    {
     "name": "stdout",
     "output_type": "stream",
     "text": [
      "11\n",
      "22\n",
      "33\n",
      "44\n",
      "55\n"
     ]
    }
   ],
   "source": [
    "x = [1,2,3,4,5]\n",
    "y = [10,20,30,40,50,60,70]\n",
    "for i in range(len(x)):\n",
    "    out=x[i]+y[i]\n",
    "    print(out)"
   ]
  },
  {
   "cell_type": "code",
   "execution_count": 21,
   "metadata": {},
   "outputs": [
    {
     "name": "stdout",
     "output_type": "stream",
     "text": [
      "11\n",
      "22\n",
      "33\n",
      "44\n",
      "55\n"
     ]
    }
   ],
   "source": [
    "for i,j in zip(x,y):\n",
    "    out=i+j\n",
    "    print(out)"
   ]
  },
  {
   "cell_type": "code",
   "execution_count": 22,
   "metadata": {},
   "outputs": [
    {
     "name": "stdout",
     "output_type": "stream",
     "text": [
      "8\n",
      "25\n",
      "5\n",
      "12\n",
      "125\n",
      "20\n"
     ]
    }
   ],
   "source": [
    "x=[2,5,1,2,5,2,5]\n",
    "y=[2,1,5,2,5,5]\n",
    "z=[2,5,1,3,5,2]\n",
    "for i,j,k in zip(x,y,z):\n",
    "    a=i*j*k\n",
    "    print(a)"
   ]
  },
  {
   "cell_type": "code",
   "execution_count": 32,
   "metadata": {},
   "outputs": [
    {
     "name": "stdout",
     "output_type": "stream",
     "text": [
      "the sum of square is: 285\n"
     ]
    }
   ],
   "source": [
    "number=[1,2,3,4,5,6,7,8,9]\n",
    "sum=0\n",
    "for num in number:\n",
    "    sum+=num**2\n",
    "print(\"the sum of square is:\",sum)"
   ]
  },
  {
   "cell_type": "code",
   "execution_count": 44,
   "metadata": {},
   "outputs": [
    {
     "name": "stdout",
     "output_type": "stream",
     "text": [
      "the sum of digits of the number is : 5\n"
     ]
    }
   ],
   "source": [
    "num=input(\"enter a number:\")\n",
    "sum=0\n",
    "for digit in num:\n",
    "    sum+=int(digit)\n",
    "print(\"the sum of digits of the number is :\",sum)"
   ]
  },
  {
   "cell_type": "code",
   "execution_count": 1,
   "metadata": {},
   "outputs": [
    {
     "name": "stdout",
     "output_type": "stream",
     "text": [
      "run\n",
      "run\n",
      "run\n",
      "run\n",
      "stop\n"
     ]
    }
   ],
   "source": [
    "x=1\n",
    "while x<5:\n",
    "    print('run')\n",
    "    x+=1\n",
    "print('stop')"
   ]
  },
  {
   "cell_type": "code",
   "execution_count": 9,
   "metadata": {},
   "outputs": [
    {
     "name": "stdout",
     "output_type": "stream",
     "text": [
      "0\n",
      "1\n",
      "2\n",
      "3\n",
      "4\n",
      "5\n",
      "6\n",
      "7\n",
      "8\n",
      "9\n",
      "10\n",
      "11\n",
      "12\n",
      "13\n",
      "14\n",
      "15\n",
      "16\n",
      "17\n",
      "18\n",
      "19\n",
      "20\n"
     ]
    }
   ],
   "source": [
    "x=0\n",
    "while x<21:\n",
    "    print(x)\n",
    "    x+=1\n"
   ]
  },
  {
   "attachments": {},
   "cell_type": "markdown",
   "metadata": {},
   "source": [
    "break "
   ]
  },
  {
   "cell_type": "code",
   "execution_count": 10,
   "metadata": {},
   "outputs": [
    {
     "name": "stdout",
     "output_type": "stream",
     "text": [
      "0\n",
      "1\n",
      "2\n"
     ]
    }
   ],
   "source": [
    "for i in range(5):\n",
    "    if i==3:\n",
    "        break\n",
    "    print(i)"
   ]
  },
  {
   "cell_type": "code",
   "execution_count": 16,
   "metadata": {},
   "outputs": [
    {
     "name": "stdout",
     "output_type": "stream",
     "text": [
      "1\n",
      "3\n",
      "5\n",
      "7\n",
      "9\n",
      "11\n",
      "13\n",
      "15\n",
      "17\n",
      "19\n",
      "21\n",
      "23\n",
      "25\n",
      "27\n",
      "29\n",
      "31\n",
      "33\n",
      "35\n",
      "37\n",
      "39\n",
      "41\n",
      "43\n",
      "45\n",
      "47\n",
      "49\n",
      "51\n",
      "53\n",
      "55\n",
      "57\n",
      "59\n",
      "61\n",
      "63\n",
      "65\n",
      "67\n",
      "69\n",
      "71\n",
      "73\n",
      "75\n",
      "77\n",
      "79\n",
      "81\n",
      "83\n",
      "85\n",
      "87\n",
      "89\n",
      "91\n",
      "93\n",
      "95\n",
      "97\n",
      "99\n"
     ]
    }
   ],
   "source": [
    "for i  in range(1,100,2):\n",
    "    if i==2:\n",
    "        continue\n",
    "    print(i)"
   ]
  },
  {
   "cell_type": "code",
   "execution_count": null,
   "metadata": {},
   "outputs": [],
   "source": [
    "list="
   ]
  }
 ],
 "metadata": {
  "kernelspec": {
   "display_name": "Python 3",
   "language": "python",
   "name": "python3"
  },
  "language_info": {
   "codemirror_mode": {
    "name": "ipython",
    "version": 3
   },
   "file_extension": ".py",
   "mimetype": "text/x-python",
   "name": "python",
   "nbconvert_exporter": "python",
   "pygments_lexer": "ipython3",
   "version": "3.10.10"
  },
  "orig_nbformat": 4
 },
 "nbformat": 4,
 "nbformat_minor": 2
}
