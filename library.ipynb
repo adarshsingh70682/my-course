{
 "cells": [
  {
   "cell_type": "code",
   "execution_count": 3,
   "metadata": {},
   "outputs": [],
   "source": [
    "import math\n"
   ]
  },
  {
   "cell_type": "code",
   "execution_count": 4,
   "metadata": {},
   "outputs": [
    {
     "name": "stdout",
     "output_type": "stream",
     "text": [
      "3.605551275463989\n",
      "3.141592653589793\n",
      "1307674368000\n",
      "2.0\n",
      "6.643856189774725\n",
      "1\n"
     ]
    }
   ],
   "source": [
    "print(math.sqrt(13))\n",
    "print(math.pi)\n",
    "print(math.factorial(15))\n",
    "print(math.log(100,10))\n",
    "print(math.log(100,2))\n",
    "print(math.gcd(12,34,45))\n"
   ]
  },
  {
   "cell_type": "code",
   "execution_count": 5,
   "metadata": {},
   "outputs": [],
   "source": [
    "from random import random,randint,choice,shuffle"
   ]
  },
  {
   "cell_type": "code",
   "execution_count": 6,
   "metadata": {},
   "outputs": [
    {
     "name": "stdout",
     "output_type": "stream",
     "text": [
      "get a random number between 0 and 1: 0.1455022430508739\n",
      "get a random integer between 50 and 100: 64\n",
      "get a random item lose\n",
      "shuffle a list: ['john', 'jane', 'jill', 'joe', 'jack']\n"
     ]
    }
   ],
   "source": [
    "print('get a random number between 0 and 1:', random())\n",
    "print('get a random integer between 50 and 100:',randint(50,100))\n",
    "print('get a random item', choice(['win','lose','draw']))\n",
    "names=['john','jane','jack','jill','joe']\n",
    "shuffle(names)\n",
    "print('shuffle a list:', names)\n",
    "\n",
    "\n"
   ]
  },
  {
   "cell_type": "code",
   "execution_count": 2,
   "metadata": {},
   "outputs": [],
   "source": [
    "from datetime import datetime as dt"
   ]
  },
  {
   "cell_type": "code",
   "execution_count": 3,
   "metadata": {},
   "outputs": [
    {
     "name": "stdout",
     "output_type": "stream",
     "text": [
      "current : 2023-05-09 15:55:51.873675\n",
      "current time: 15:55:51.873675\n",
      "current date: 2023-05-09\n",
      "timestamp : 1683627951.873675\n",
      "year : 2023\n",
      "month : 5\n",
      "day : 9\n"
     ]
    }
   ],
   "source": [
    "print('current :',dt.now())\n",
    "print('current time:',dt.now().time())\n",
    "print('current date:',dt.now().date())\n",
    "print('timestamp :',dt.now().timestamp())\n",
    "print('year :',dt.now().year)\n",
    "print('month :',dt.now().month)\n",
    "print('day :',dt.now().day)"
   ]
  },
  {
   "cell_type": "code",
   "execution_count": 14,
   "metadata": {},
   "outputs": [
    {
     "name": "stdout",
     "output_type": "stream",
     "text": [
      "formatted date 09-05-23\n"
     ]
    }
   ],
   "source": [
    "date=dt.strftime(dt.now(), '%d-%m-%y')\n",
    "print('formatted date', date)"
   ]
  },
  {
   "cell_type": "code",
   "execution_count": 15,
   "metadata": {},
   "outputs": [
    {
     "data": {
      "text/plain": [
       "'16:26:43'"
      ]
     },
     "execution_count": 15,
     "metadata": {},
     "output_type": "execute_result"
    }
   ],
   "source": [
    "dt.strftime(dt.now(), '%H:%M:%S')"
   ]
  },
  {
   "cell_type": "code",
   "execution_count": 20,
   "metadata": {},
   "outputs": [],
   "source": [
    "import os  #KNOW ABOUT FOLDERS AND FILES"
   ]
  },
  {
   "cell_type": "code",
   "execution_count": 21,
   "metadata": {},
   "outputs": [
    {
     "name": "stdout",
     "output_type": "stream",
     "text": [
      "current folder c:\\Users\\Adarsh\\OneDrive\\Documents\\my course\n"
     ]
    }
   ],
   "source": [
    "print('current folder',os.getcwd()) #get current working directory"
   ]
  },
  {
   "cell_type": "code",
   "execution_count": 22,
   "metadata": {},
   "outputs": [
    {
     "name": "stdout",
     "output_type": "stream",
     "text": [
      "['.git', 'besics.ipynb', 'class.ipynb', 'conditions.ipynb', 'dict.ipynb', 'functions.ipynb', 'library.ipynb', 'loops.ipynb', 'lst&string.ipynb', 't1.py', 't2.py', 't3.py', 't4.py']\n"
     ]
    }
   ],
   "source": [
    "files=os.listdir() #list all files and folders in current dirct\n",
    "print(files)"
   ]
  },
  {
   "cell_type": "code",
   "execution_count": 26,
   "metadata": {},
   "outputs": [
    {
     "name": "stdout",
     "output_type": "stream",
     "text": [
      "['desktop.ini', 'Screenshot (1).png', 'Screenshot (2).png', 'Screenshot (3).png', 'Screenshot_20230219_030400.png']\n",
      "5\n"
     ]
    }
   ],
   "source": [
    "files=os.listdir(r\"C:\\Users\\Adarsh\\OneDrive\\Pictures\\Screenshots\")\n",
    "print(files)\n",
    "print(len(files))"
   ]
  },
  {
   "cell_type": "code",
   "execution_count": 27,
   "metadata": {},
   "outputs": [
    {
     "data": {
      "text/plain": [
       "<generator object _walk at 0x000001905B46D1C0>"
      ]
     },
     "execution_count": 27,
     "metadata": {},
     "output_type": "execute_result"
    }
   ],
   "source": [
    "os.walk('c:') "
   ]
  },
  {
   "cell_type": "code",
   "execution_count": 28,
   "metadata": {},
   "outputs": [
    {
     "ename": "SyntaxError",
     "evalue": "invalid syntax. Perhaps you forgot a comma? (1188963489.py, line 2)",
     "output_type": "error",
     "traceback": [
      "\u001b[1;36m  Cell \u001b[1;32mIn[28], line 2\u001b[1;36m\u001b[0m\n\u001b[1;33m    for path, folders, files in os.walk(\"r\"C:\\Users\\Adarsh\\OneDrive\\Pictures\\Screenshots\"):\u001b[0m\n\u001b[1;37m                                        ^\u001b[0m\n\u001b[1;31mSyntaxError\u001b[0m\u001b[1;31m:\u001b[0m invalid syntax. Perhaps you forgot a comma?\n"
     ]
    }
   ],
   "source": [
    "total_files=0\n",
    "for path, folders, files in os.walk(\"r\"C:\\Users\\Adarsh\\OneDrive\\Pictures\\Screenshots\"):\n",
    "    print('=>',path)\n",
    "    print('📁',folders)\n",
    "    print('📂',files) "
   ]
  },
  {
   "cell_type": "code",
   "execution_count": 29,
   "metadata": {},
   "outputs": [
    {
     "name": "stdout",
     "output_type": "stream",
     "text": [
      "files exists\n"
     ]
    }
   ],
   "source": [
    "files=r\"C:\\Users\\Adarsh\\OneDrive\\Pictures\\Screenshots\"\n",
    "if os.path.exists(files):\n",
    "    print('files exists')"
   ]
  },
  {
   "cell_type": "code",
   "execution_count": 33,
   "metadata": {},
   "outputs": [
    {
     "ename": "NameError",
     "evalue": "name 'file' is not defined",
     "output_type": "error",
     "traceback": [
      "\u001b[1;31m---------------------------------------------------------------------------\u001b[0m",
      "\u001b[1;31mNameError\u001b[0m                                 Traceback (most recent call last)",
      "Cell \u001b[1;32mIn[33], line 2\u001b[0m\n\u001b[0;32m      1\u001b[0m files\u001b[39m=\u001b[39m\u001b[39mr\u001b[39m\u001b[39m\"\u001b[39m\u001b[39mC:\u001b[39m\u001b[39m\\\u001b[39m\u001b[39mUsers\u001b[39m\u001b[39m\\\u001b[39m\u001b[39mAdarsh\u001b[39m\u001b[39m\\\u001b[39m\u001b[39mOneDrive\u001b[39m\u001b[39m\\\u001b[39m\u001b[39mPictures\u001b[39m\u001b[39m\\\u001b[39m\u001b[39mScreenshots\u001b[39m\u001b[39m\"\u001b[39m\n\u001b[1;32m----> 2\u001b[0m \u001b[39mif\u001b[39;00m os\u001b[39m.\u001b[39mpath\u001b[39m.\u001b[39mexists(file):\n\u001b[0;32m      3\u001b[0m     \u001b[39mprint\u001b[39m(\u001b[39m'\u001b[39m\u001b[39mfile exists\u001b[39m\u001b[39m'\u001b[39m)\n\u001b[0;32m      4\u001b[0m     size\u001b[39m=\u001b[39mos\u001b[39m.\u001b[39mpath\u001b[39m.\u001b[39mgetsize(file)\n",
      "\u001b[1;31mNameError\u001b[0m: name 'file' is not defined"
     ]
    }
   ],
   "source": [
    "files=r\"C:\\Users\\Adarsh\\OneDrive\\Pictures\\Screenshots\"\n",
    "if os.path.exists(file):\n",
    "    print('file exists')\n",
    "    size=os.path.getsize(file)\n",
    "    print('size in bytes:', size)\n",
    "    print('size in kilobytes:', size/1024)"
   ]
  },
  {
   "cell_type": "code",
   "execution_count": null,
   "metadata": {},
   "outputs": [],
   "source": []
  }
 ],
 "metadata": {
  "kernelspec": {
   "display_name": "Python 3",
   "language": "python",
   "name": "python3"
  },
  "language_info": {
   "codemirror_mode": {
    "name": "ipython",
    "version": 3
   },
   "file_extension": ".py",
   "mimetype": "text/x-python",
   "name": "python",
   "nbconvert_exporter": "python",
   "pygments_lexer": "ipython3",
   "version": "3.10.11"
  },
  "orig_nbformat": 4
 },
 "nbformat": 4,
 "nbformat_minor": 2
}
