{
 "cells": [
  {
   "cell_type": "code",
   "execution_count": 39,
   "metadata": {},
   "outputs": [
    {
     "name": "stdout",
     "output_type": "stream",
     "text": [
      "['whatsapp', 'github', 'camera', 'camera', 'instagram', 'snapchat', 'spotify', 'truecaller', 'gallery', 'amazon', 'meet', 'photos', 'gmail', 'chalo', 'twitter', 'telegram', 'anydesk', 'binance', 'calculator', 'facebook', 'fampay', 'paytm', 'gpay', 'dominos', 'kite', 'meesho', 'mpocket', 'ola', 'youtube']\n"
     ]
    }
   ],
   "source": [
    "apps=[\"whatsapp\",\"github\",\"camera\",\"camera\",\"instagram\",\"snapchat\",\"spotify\",\"truecaller\",\"gallery\",\"amazon\",\"meet\",\"photos\",\"gmail\",\"chalo\",\"twitter\",\"telegram\",\"anydesk\",\"binance\",\"calculator\",\"facebook\",\"fampay\",\"paytm\",\"gpay\",\"dominos\",\"kite\",\"meesho\",\"mpocket\",\"ola\",\"youtube\"]\n",
    "print(apps)\n"
   ]
  },
  {
   "cell_type": "code",
   "execution_count": 40,
   "metadata": {},
   "outputs": [
    {
     "data": {
      "text/plain": [
       "list"
      ]
     },
     "execution_count": 40,
     "metadata": {},
     "output_type": "execute_result"
    }
   ],
   "source": [
    "type(apps)"
   ]
  },
  {
   "cell_type": "code",
   "execution_count": 41,
   "metadata": {},
   "outputs": [
    {
     "name": "stdout",
     "output_type": "stream",
     "text": [
      "29\n"
     ]
    }
   ],
   "source": [
    "print(len(apps))"
   ]
  },
  {
   "cell_type": "code",
   "execution_count": 42,
   "metadata": {},
   "outputs": [
    {
     "name": "stdout",
     "output_type": "stream",
     "text": [
      "['whatsapp', 'github', 'camera', 'camera', 'instagram', 'snapchat', 'spotify', 'truecaller', 'gallery', 'amazon', 'meet', 'photos', 'gmail', 'chalo', 'twitter', 'telegram', 'anydesk', 'binance', 'calculator', 'facebook', 'fampay', 'paytm', 'gpay', 'dominos', 'kite', 'meesho', 'mpocket', 'ola', 'youtube', 'microsoft office']\n"
     ]
    }
   ],
   "source": [
    "apps.append('microsoft office')\n",
    "print(apps)"
   ]
  },
  {
   "cell_type": "code",
   "execution_count": 43,
   "metadata": {},
   "outputs": [
    {
     "name": "stdout",
     "output_type": "stream",
     "text": [
      "['whatsapp', 'github', 'github', 'camera', 'camera', 'instagram', 'snapchat', 'spotify', 'truecaller', 'gallery', 'amazon', 'meet', 'photos', 'gmail', 'chalo', 'twitter', 'telegram', 'anydesk', 'binance', 'calculator', 'facebook', 'fampay', 'paytm', 'gpay', 'dominos', 'kite', 'meesho', 'mpocket', 'ola', 'youtube', 'microsoft office']\n"
     ]
    }
   ],
   "source": [
    "apps.insert(1,'github')\n",
    "print(apps)"
   ]
  },
  {
   "cell_type": "code",
   "execution_count": 44,
   "metadata": {},
   "outputs": [
    {
     "name": "stdout",
     "output_type": "stream",
     "text": [
      "['whatsapp', 'github', 'github', 'camera', 'instagram', 'snapchat', 'spotify', 'truecaller', 'gallery', 'amazon', 'meet', 'photos', 'gmail', 'chalo', 'twitter', 'telegram', 'anydesk', 'binance', 'calculator', 'facebook', 'fampay', 'paytm', 'gpay', 'dominos', 'kite', 'meesho', 'mpocket', 'ola', 'youtube', 'microsoft office']\n"
     ]
    }
   ],
   "source": [
    "apps.remove('camera')\n",
    "print(apps)\n"
   ]
  },
  {
   "cell_type": "code",
   "execution_count": 45,
   "metadata": {},
   "outputs": [
    {
     "name": "stdout",
     "output_type": "stream",
     "text": [
      "['whatsapp', 'github', 'github', 'camera', 'instagram', 'snapchat', 'spotify', 'truecaller', 'gallery', 'amazon', 'meet', 'photos', 'gmail', 'chalo', 'twitter', 'telegram', 'anydesk', 'binance', 'calculator', 'facebook', 'fampay', 'paytm', 'gpay', 'dominos', 'kite', 'meesho', 'mpocket', 'ola', 'youtube', 'microsoft office']\n"
     ]
    }
   ],
   "source": [
    "apps.clear\n",
    "print(apps)"
   ]
  },
  {
   "cell_type": "code",
   "execution_count": 46,
   "metadata": {},
   "outputs": [
    {
     "name": "stdout",
     "output_type": "stream",
     "text": [
      "[]\n"
     ]
    }
   ],
   "source": [
    "app = ['githun','whatsapp']\n",
    "app.clear()\n",
    "print(app)"
   ]
  },
  {
   "cell_type": "code",
   "execution_count": 47,
   "metadata": {},
   "outputs": [],
   "source": [
    "# apps.reverse()\n",
    "# print(apps)"
   ]
  },
  {
   "cell_type": "code",
   "execution_count": 48,
   "metadata": {},
   "outputs": [
    {
     "name": "stdout",
     "output_type": "stream",
     "text": [
      "['whatsapp', 'github', 'camera', 'instagram', 'snapchat', 'spotify', 'truecaller', 'gallery', 'amazon', 'meet', 'photos', 'gmail', 'chalo', 'twitter', 'telegram', 'anydesk', 'binance', 'calculator', 'facebook', 'fampay', 'paytm', 'gpay', 'dominos', 'kite', 'meesho', 'mpocket', 'ola', 'youtube', 'microsoft office']\n"
     ]
    }
   ],
   "source": [
    "apps.pop(2)\n",
    "print(apps)\n"
   ]
  },
  {
   "cell_type": "code",
   "execution_count": 49,
   "metadata": {},
   "outputs": [
    {
     "name": "stdout",
     "output_type": "stream",
     "text": [
      "['amazon', 'anydesk', 'binance', 'calculator', 'camera', 'chalo', 'dominos', 'facebook', 'fampay', 'gallery', 'github', 'gmail', 'gpay', 'instagram', 'kite', 'meesho', 'meet', 'microsoft office', 'mpocket', 'ola', 'paytm', 'photos', 'snapchat', 'spotify', 'telegram', 'truecaller', 'twitter', 'whatsapp', 'youtube']\n",
      "29\n"
     ]
    }
   ],
   "source": [
    "apps.sort()\n",
    "print(apps)\n",
    "print(len(apps))\n"
   ]
  },
  {
   "cell_type": "code",
   "execution_count": 52,
   "metadata": {},
   "outputs": [
    {
     "name": "stdout",
     "output_type": "stream",
     "text": [
      "4\n"
     ]
    }
   ],
   "source": [
    "a=[1,2,4,3,2]\n",
    "sum=max(a)\n",
    "print(sum)"
   ]
  },
  {
   "cell_type": "code",
   "execution_count": 54,
   "metadata": {},
   "outputs": [
    {
     "name": "stdout",
     "output_type": "stream",
     "text": [
      "1\n"
     ]
    }
   ],
   "source": [
    "a=[1,2,4,3,2]\n",
    "sum=min(a)\n",
    "print(sum)"
   ]
  },
  {
   "cell_type": "code",
   "execution_count": null,
   "metadata": {},
   "outputs": [],
   "source": []
  }
 ],
 "metadata": {
  "kernelspec": {
   "display_name": "Python 3",
   "language": "python",
   "name": "python3"
  },
  "language_info": {
   "codemirror_mode": {
    "name": "ipython",
    "version": 3
   },
   "file_extension": ".py",
   "mimetype": "text/x-python",
   "name": "python",
   "nbconvert_exporter": "python",
   "pygments_lexer": "ipython3",
   "version": "3.10.10"
  },
  "orig_nbformat": 4
 },
 "nbformat": 4,
 "nbformat_minor": 2
}
