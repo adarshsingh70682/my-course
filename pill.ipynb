{
 "cells": [
  {
   "cell_type": "code",
   "execution_count": 33,
   "metadata": {},
   "outputs": [],
   "source": [
    "from PIL import Image\n",
    "#location of the image \n",
    "img=Image.open(\"wave.jpg\")\n",
    "img.show()"
   ]
  },
  {
   "cell_type": "code",
   "execution_count": 34,
   "metadata": {},
   "outputs": [
    {
     "name": "stdout",
     "output_type": "stream",
     "text": [
      "(640, 360)\n"
     ]
    }
   ],
   "source": [
    "#size of the image\n",
    "print(img.size)"
   ]
  },
  {
   "cell_type": "code",
   "execution_count": 35,
   "metadata": {},
   "outputs": [
    {
     "name": "stdout",
     "output_type": "stream",
     "text": [
      "640*360\n"
     ]
    }
   ],
   "source": [
    "#resolution\n",
    "wid,hgt=img.size #fetching the dimension\n",
    "print(str(wid)+\"*\"+str(hgt))"
   ]
  },
  {
   "cell_type": "code",
   "execution_count": 36,
   "metadata": {},
   "outputs": [
    {
     "name": "stdout",
     "output_type": "stream",
     "text": [
      "The width of the image is: 640\n",
      "The height of the image is: 360\n"
     ]
    }
   ],
   "source": [
    "width=img.width\n",
    "height=img.height\n",
    "print(\"The width of the image is: \"+str(width))\n",
    "print(\"The height of the image is: \"+str(height))"
   ]
  },
  {
   "cell_type": "code",
   "execution_count": 37,
   "metadata": {},
   "outputs": [
    {
     "name": "stdout",
     "output_type": "stream",
     "text": [
      "JPEG\n"
     ]
    }
   ],
   "source": [
    "#format of the image\n",
    "print(img.format)"
   ]
  },
  {
   "cell_type": "code",
   "execution_count": 38,
   "metadata": {},
   "outputs": [
    {
     "name": "stdout",
     "output_type": "stream",
     "text": [
      "RGB\n"
     ]
    }
   ],
   "source": [
    "#color mode of the image\n",
    "print(img.mode)"
   ]
  },
  {
   "cell_type": "code",
   "execution_count": 44,
   "metadata": {},
   "outputs": [],
   "source": [
    "#rotate the image\n",
    "img_rotate=img.rotate(180)\n",
    "img_rotate.show()"
   ]
  },
  {
   "cell_type": "code",
   "execution_count": 40,
   "metadata": {},
   "outputs": [],
   "source": [
    "#FLIPPING THE IMAGE\n",
    "img_flip=img.transpose(Image.FLIP_LEFT_RIGHT)\n",
    "img_flip.show()"
   ]
  },
  {
   "cell_type": "code",
   "execution_count": 41,
   "metadata": {},
   "outputs": [],
   "source": [
    "img_flip=img.transpose(Image.FLIP_TOP_BOTTOM)\n",
    "img_flip.show()"
   ]
  },
  {
   "cell_type": "code",
   "execution_count": 45,
   "metadata": {},
   "outputs": [
    {
     "ename": "TypeError",
     "evalue": "'module' object is not callable",
     "output_type": "error",
     "traceback": [
      "\u001b[1;31m---------------------------------------------------------------------------\u001b[0m",
      "\u001b[1;31mTypeError\u001b[0m                                 Traceback (most recent call last)",
      "Cell \u001b[1;32mIn[45], line 5\u001b[0m\n\u001b[0;32m      2\u001b[0m im\u001b[39m=\u001b[39mImage\u001b[39m.\u001b[39mopen(\u001b[39m\"\u001b[39m\u001b[39mwave.jpg\u001b[39m\u001b[39m\"\u001b[39m)\n\u001b[0;32m      3\u001b[0m watermark_image\u001b[39m=\u001b[39mim\u001b[39m.\u001b[39mcopy()\n\u001b[1;32m----> 5\u001b[0m draw\u001b[39m=\u001b[39mImageDraw(watermark_image)\n\u001b[0;32m      7\u001b[0m font\u001b[39m=\u001b[39mImageFont\u001b[39m.\u001b[39mtruetype(\u001b[39m'\u001b[39m\u001b[39marial.ttf\u001b[39m\u001b[39m'\u001b[39m,\u001b[39m50\u001b[39m)\n\u001b[0;32m      9\u001b[0m draw\u001b[39m.\u001b[39mtext((\u001b[39m0\u001b[39m,\u001b[39m0\u001b[39m),\u001b[39m\"\u001b[39m\u001b[39mmy name is ADARSH\u001b[39m\u001b[39m\"\u001b[39m,(\u001b[39m255\u001b[39m,\u001b[39m255\u001b[39m,\u001b[39m255\u001b[39m),font\u001b[39m=\u001b[39mfont)\n",
      "\u001b[1;31mTypeError\u001b[0m: 'module' object is not callable"
     ]
    }
   ],
   "source": [
    "from PIL import Image, ImageFont, ImageDraw\n",
    "im=Image.open(\"wave.jpg\")\n",
    "watermark_image=im.copy()\n",
    "\n",
    "draw=ImageDraw(watermark_image)\n",
    "\n",
    "font=ImageFont.truetype('arial.ttf',50)\n",
    "\n",
    "draw.text((0,0),\"my name is ADARSH\",(255,255,255),font=font)\n",
    "watermark_image.show()"
   ]
  },
  {
   "cell_type": "code",
   "execution_count": null,
   "metadata": {},
   "outputs": [
    {
     "ename": "TypeError",
     "evalue": "'module' object is not callable",
     "output_type": "error",
     "traceback": [
      "\u001b[1;31m---------------------------------------------------------------------------\u001b[0m",
      "\u001b[1;31mTypeError\u001b[0m                                 Traceback (most recent call last)",
      "Cell \u001b[1;32mIn[32], line 5\u001b[0m\n\u001b[0;32m      2\u001b[0m im\u001b[39m=\u001b[39mImage\u001b[39m.\u001b[39mopen(\u001b[39m\"\u001b[39m\u001b[39mwave.jpg\u001b[39m\u001b[39m\"\u001b[39m)\n\u001b[0;32m      3\u001b[0m watermark_image\u001b[39m=\u001b[39mim\u001b[39m.\u001b[39mcopy()\n\u001b[1;32m----> 5\u001b[0m draw\u001b[39m=\u001b[39mImageDraw(watermark_image)\n\u001b[0;32m      7\u001b[0m font\u001b[39m=\u001b[39mImageFont\u001b[39m.\u001b[39mtruetype(\u001b[39m'\u001b[39m\u001b[39marial.ttf\u001b[39m\u001b[39m'\u001b[39m,\u001b[39m50\u001b[39m)\n\u001b[0;32m      9\u001b[0m draw\u001b[39m.\u001b[39mtext((\u001b[39m0\u001b[39m,\u001b[39m0\u001b[39m),\u001b[39m\"\u001b[39m\u001b[39mmy name is ADARSH\u001b[39m\u001b[39m\"\u001b[39m,(\u001b[39m255\u001b[39m,\u001b[39m255\u001b[39m,\u001b[39m255\u001b[39m),font\u001b[39m=\u001b[39mfont)\n",
      "\u001b[1;31mTypeError\u001b[0m: 'module' object is not callable"
     ]
    }
   ],
   "source": [
    "from PIL import Image, ImageEnhance\n",
    "im=Image.open(\"wave.jpg\")\n",
    "im3=ImageEnhance.Brightness\n",
    "\n",
    "draw=ImageDraw(watermark_image)\n",
    "\n",
    "font=ImageFont.truetype('arial.ttf',50)\n",
    "\n",
    "draw.text((0,0),\"my name is ADARSH\",(255,255,255),font=font)\n",
    "watermark_image.show()"
   ]
  }
 ],
 "metadata": {
  "kernelspec": {
   "display_name": "base",
   "language": "python",
   "name": "python3"
  },
  "language_info": {
   "codemirror_mode": {
    "name": "ipython",
    "version": 3
   },
   "file_extension": ".py",
   "mimetype": "text/x-python",
   "name": "python",
   "nbconvert_exporter": "python",
   "pygments_lexer": "ipython3",
   "version": "3.10.9"
  },
  "orig_nbformat": 4
 },
 "nbformat": 4,
 "nbformat_minor": 2
}
