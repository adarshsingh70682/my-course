{
 "cells": [
  {
   "cell_type": "code",
   "execution_count": 46,
   "metadata": {},
   "outputs": [],
   "source": [
    "from PIL import Image\n",
    "#location of the image \n",
    "img=Image.open(\"wave.jpg\")\n",
    "img.show()"
   ]
  },
  {
   "cell_type": "code",
   "execution_count": 47,
   "metadata": {},
   "outputs": [
    {
     "name": "stdout",
     "output_type": "stream",
     "text": [
      "(640, 360)\n"
     ]
    }
   ],
   "source": [
    "#size of the image\n",
    "print(img.size)"
   ]
  },
  {
   "cell_type": "code",
   "execution_count": 48,
   "metadata": {},
   "outputs": [
    {
     "name": "stdout",
     "output_type": "stream",
     "text": [
      "640*360\n"
     ]
    }
   ],
   "source": [
    "#resolution\n",
    "wid,hgt=img.size #fetching the dimension\n",
    "print(str(wid)+\"*\"+str(hgt))"
   ]
  },
  {
   "cell_type": "code",
   "execution_count": 49,
   "metadata": {},
   "outputs": [
    {
     "name": "stdout",
     "output_type": "stream",
     "text": [
      "The width of the image is: 640\n",
      "The height of the image is: 360\n"
     ]
    }
   ],
   "source": [
    "width=img.width\n",
    "height=img.height\n",
    "print(\"The width of the image is: \"+str(width))\n",
    "print(\"The height of the image is: \"+str(height))"
   ]
  },
  {
   "cell_type": "code",
   "execution_count": 50,
   "metadata": {},
   "outputs": [
    {
     "name": "stdout",
     "output_type": "stream",
     "text": [
      "JPEG\n"
     ]
    }
   ],
   "source": [
    "#format of the image\n",
    "print(img.format)"
   ]
  },
  {
   "cell_type": "code",
   "execution_count": 51,
   "metadata": {},
   "outputs": [
    {
     "name": "stdout",
     "output_type": "stream",
     "text": [
      "RGB\n"
     ]
    }
   ],
   "source": [
    "#color mode of the image\n",
    "print(img.mode)"
   ]
  },
  {
   "cell_type": "code",
   "execution_count": 52,
   "metadata": {},
   "outputs": [],
   "source": [
    "#rotate the image\n",
    "img_rotate=img.rotate(180)\n",
    "img_rotate.show()"
   ]
  },
  {
   "cell_type": "code",
   "execution_count": 53,
   "metadata": {},
   "outputs": [],
   "source": [
    "#FLIPPING THE IMAGE\n",
    "img_flip=img.transpose(Image.FLIP_LEFT_RIGHT)\n",
    "img_flip.show()"
   ]
  },
  {
   "cell_type": "code",
   "execution_count": 54,
   "metadata": {},
   "outputs": [],
   "source": [
    "img_flip=img.transpose(Image.FLIP_TOP_BOTTOM)\n",
    "img_flip.show()"
   ]
  },
  {
   "cell_type": "code",
   "execution_count": 55,
   "metadata": {},
   "outputs": [],
   "source": [
    "#resizing the image\n",
    "img_resize=img.resize((400,400))\n",
    "img_resize.show()"
   ]
  },
  {
   "cell_type": "code",
   "execution_count": 56,
   "metadata": {},
   "outputs": [],
   "source": [
    "image=Image.open(\"wave.jpg\")\n",
    "image.load()\n",
    "r,g,b = image.split()\n",
    "im1=Image.merge('RGB',(g,b,r))\n",
    "im1.show()"
   ]
  },
  {
   "cell_type": "code",
   "execution_count": 58,
   "metadata": {},
   "outputs": [
    {
     "name": "stdout",
     "output_type": "stream",
     "text": [
      "img 1 size:  (225, 225)\n",
      "img 2 size:  (210, 241)\n",
      "img 3 size:  (217, 232)\n",
      "img 4 size:  (210, 241)\n"
     ]
    }
   ],
   "source": [
    "#Image merging\n",
    "img_1 = Image.open(\"1.jpg\")\n",
    "img_2 = Image.open(\"2.jpg\")\n",
    "img_3 = Image.open(\"3.jpg\")\n",
    "img_4 = Image.open(\"4.jpg\")\n",
    "\n",
    "img_1_size = img_1.size\n",
    "img_2_size = img_2.size\n",
    "img_3_size = img_3.size\n",
    "img_4_size = img_4.size\n",
    "\n",
    "print('img 1 size: ',img_1_size)\n",
    "print('img 2 size: ',img_2_size)\n",
    "print('img 3 size: ',img_3_size)\n",
    "print('img 4 size: ',img_4_size)\n",
    "\n",
    "new_im = Image.new('RGB',(2*img_1_size[0],2*img_1_size[1]),(250,250,250))\n",
    "new_im.paste(img_1,(0,0))\n",
    "new_im.paste(img_2,(img_1_size[0],0))\n",
    "new_im.paste(img_3,(0,img_1_size[1]))\n",
    "new_im.paste(img_4,(img_1_size[0],img_1_size[1]))\n",
    "\n",
    "new_im.show()"
   ]
  },
  {
   "cell_type": "code",
   "execution_count": null,
   "metadata": {},
   "outputs": [],
   "source": [
    "im=Image.open(\"wave.jpg\")\n",
    "left=5\n",
    "top=height/4\n",
    "right=164\n",
    "bottom=3*height/4\n",
    "\n",
    "im1 = im.crop((left, top, right, bottom))\n",
    "im1.show()"
   ]
  },
  {
   "cell_type": "code",
   "execution_count": null,
   "metadata": {},
   "outputs": [],
   "source": [
    "#blurring the image\n",
    "from PIL import Image, ImageFilter\n",
    "#open the image\n",
    "im=Image.open(\"wave.jpg\")\n",
    "#applying the blur filter\n",
    "im1=im.filter(ImageFilter.BLUR)\n",
    "im1.show()"
   ]
  },
  {
   "cell_type": "code",
   "execution_count": null,
   "metadata": {},
   "outputs": [],
   "source": [
    "#blurring the image\n",
    "from PIL import Image, ImageFilter\n",
    "#open the image\n",
    "im=Image.open(\"wave.jpg\")\n",
    "#applying the blur filter\n",
    "im1=im.filter(ImageFilter.GaussianBlur(4))\n",
    "im1.show()"
   ]
  },
  {
   "cell_type": "code",
   "execution_count": null,
   "metadata": {},
   "outputs": [],
   "source": [
    "#blurring the image\n",
    "from PIL import Image, ImageFilter\n",
    "#open the image\n",
    "im=Image.open(\"wave.jpg\")\n",
    "#applying the blur filter\n",
    "im1=im.filter(ImageFilter.BoxBlur(4))\n",
    "im1.show()"
   ]
  },
  {
   "cell_type": "code",
   "execution_count": null,
   "metadata": {},
   "outputs": [],
   "source": [
    "from PIL import Image, ImageFont, ImageDraw\n",
    "#open the image\n",
    "im=Image.open(\"wave.jpg\")\n",
    "#creating a copy of original image\n",
    "watermark_image=im.copy()\n",
    "\n",
    "#draw context\n",
    "draw=ImageDraw.Draw(watermark_image)\n",
    "#font style\n",
    "font=ImageFont.truetype('arial.ttf',50)\n",
    "\n",
    "#decide the text location, color and font\n",
    "#(255,255,255)-white color of the text\n",
    "draw.text((0,0),\"My Name is ADARSH\",(255,255,255),font=font)\n",
    "watermark_image.show()"
   ]
  },
  {
   "cell_type": "code",
   "execution_count": null,
   "metadata": {},
   "outputs": [],
   "source": [
    "#import image and image enhancer module\n",
    "from PIL import Image, ImageEnhance\n",
    "#open the image\n",
    "im=Image.open(\"wave.jpg\")\n",
    "#creating object of Color class\n",
    "im3=ImageEnhance.Color(im)\n",
    "#showing resultant image\n",
    "im3.enhance(10.0).show()"
   ]
  },
  {
   "cell_type": "code",
   "execution_count": null,
   "metadata": {},
   "outputs": [],
   "source": [
    "#import image and image enhancer module\n",
    "from PIL import Image, ImageEnhance\n",
    "#open the image\n",
    "im=Image.open(\"wave.jpg\")\n",
    "#creating object of Contrast class\n",
    "im3=ImageEnhance.Contrast(im)\n",
    "#showing resultant image\n",
    "im3.enhance(5.0).show()"
   ]
  },
  {
   "cell_type": "code",
   "execution_count": null,
   "metadata": {},
   "outputs": [],
   "source": [
    "#import image and image enhancer module\n",
    "from PIL import Image, ImageEnhance\n",
    "#open the image\n",
    "im=Image.open(\"wave.jpg\")\n",
    "#creating object of Contrast class\n",
    "im3=ImageEnhance.Brightness(im)\n",
    "#showing resultant image\n",
    "im3.enhance(1.5).show()"
   ]
  }
 ],
 "metadata": {
  "kernelspec": {
   "display_name": "base",
   "language": "python",
   "name": "python3"
  },
  "language_info": {
   "codemirror_mode": {
    "name": "ipython",
    "version": 3
   },
   "file_extension": ".py",
   "mimetype": "text/x-python",
   "name": "python",
   "nbconvert_exporter": "python",
   "pygments_lexer": "ipython3",
   "version": "3.10.9"
  },
  "orig_nbformat": 4
 },
 "nbformat": 4,
 "nbformat_minor": 2
}
