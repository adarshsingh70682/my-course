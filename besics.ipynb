{
 "cells": [
  {
   "cell_type": "code",
   "execution_count": null,
   "metadata": {},
   "outputs": [],
   "source": [
    "x=\"hello\"\n",
    "y=\"world\"\n",
    "z=x+y\n",
    "print(z)"
   ]
  },
  {
   "cell_type": "code",
   "execution_count": null,
   "metadata": {},
   "outputs": [],
   "source": [
    "x=4\n",
    "y=5\n",
    "z=x<y\n",
    "print(z)"
   ]
  },
  {
   "cell_type": "code",
   "execution_count": null,
   "metadata": {},
   "outputs": [],
   "source": [
    "number=input(\"enter a number:\")\n",
    "print(\"the number you entered is:\",number)\n",
    "number_str=input(\"enter a number:\")\n",
    "number=int(number_str)\n",
    "print(\"the number you entered is:\",number)"
   ]
  },
  {
   "cell_type": "code",
   "execution_count": null,
   "metadata": {},
   "outputs": [],
   "source": [
    "x=5;x*=3;\n",
    "print(x)"
   ]
  },
  {
   "cell_type": "code",
   "execution_count": null,
   "metadata": {},
   "outputs": [],
   "source": [
    "\n",
    "num = 42\n",
    "\n",
    "print(\"The data type of num is:\", type(num))\n",
    "\n"
   ]
  },
  {
   "cell_type": "code",
   "execution_count": null,
   "metadata": {},
   "outputs": [],
   "source": [
    "cube_root = 29** (1/3)\n",
    "\n",
    "print( \"cube root of 29\"  ,cube_root)"
   ]
  },
  {
   "cell_type": "code",
   "execution_count": 20,
   "metadata": {},
   "outputs": [
    {
     "name": "stdout",
     "output_type": "stream",
     "text": [
      " a and b  False\n",
      " a or b  True\n",
      "not a is  False\n",
      " not b is  True\n"
     ]
    }
   ],
   "source": [
    "a = True\n",
    "b = False\n",
    "\n",
    "print(\" a and b \", a and b)\n",
    "print(\" a or b \", a or b)\n",
    "print(\"not a is \",  not a)\n",
    "print(\" not b is \", not b)\n",
    "\n",
    "\n",
    " "
   ]
  },
  {
   "cell_type": "code",
   "execution_count": 26,
   "metadata": {},
   "outputs": [
    {
     "name": "stdout",
     "output_type": "stream",
     "text": [
      "a is b: True\n",
      "a is c False\n",
      "a is not b False\n"
     ]
    }
   ],
   "source": [
    "a = 5 \n",
    "b = 5\n",
    "c = 15\n",
    "\n",
    "print(\"a is b:\", a is b)\n",
    "print(\"a is c\", a is c)\n",
    "print(\"a is not b\", a is not b  )"
   ]
  },
  {
   "cell_type": "code",
   "execution_count": 31,
   "metadata": {},
   "outputs": [
    {
     "name": "stdout",
     "output_type": "stream",
     "text": [
      " value is: <class 'int'>\n",
      " value is: <class 'float'>\n",
      " value is: <class 'str'>\n",
      " value is: <class 'str'>\n",
      " value is: <class 'bool'>\n"
     ]
    }
   ],
   "source": [
    "a = 5 \n",
    "b = 10.53678\n",
    "c = \" adarsh , singh\"\n",
    "d = 'adarsh,kamal,pavan'\n",
    "e = 1==1\n",
    "\n",
    "print(\" value is:\",type(a))\n",
    "print(\" value is:\",type(b))\n",
    "print(\" value is:\",type(c))\n",
    "print(\" value is:\",type(d))\n",
    "print(\" value is:\",type(e))"
   ]
  },
  {
   "cell_type": "code",
   "execution_count": 34,
   "metadata": {},
   "outputs": [
    {
     "ename": "TypeError",
     "evalue": "unsupported operand type(s) for +: 'int' and 'str'",
     "output_type": "error",
     "traceback": [
      "\u001b[1;31m---------------------------------------------------------------------------\u001b[0m",
      "\u001b[1;31mTypeError\u001b[0m                                 Traceback (most recent call last)",
      "Cell \u001b[1;32mIn[34], line 1\u001b[0m\n\u001b[1;32m----> 1\u001b[0m a \u001b[39m=\u001b[39m \u001b[39m5\u001b[39;49m\u001b[39m+\u001b[39;49m\u001b[39m\"\u001b[39;49m\u001b[39m2\u001b[39;49m\u001b[39m\"\u001b[39;49m\n",
      "\u001b[1;31mTypeError\u001b[0m: unsupported operand type(s) for +: 'int' and 'str'"
     ]
    }
   ],
   "source": [
    "a = 5+\"2\"\n"
   ]
  },
  {
   "cell_type": "code",
   "execution_count": 35,
   "metadata": {},
   "outputs": [
    {
     "name": "stdout",
     "output_type": "stream",
     "text": [
      "intiger num 42\n",
      "string_num 42\n"
     ]
    }
   ],
   "source": [
    "string_num = \"42\"\n",
    "int_num = int(string_num)\n",
    "\n",
    "print(\"intiger num\", int_num)\n",
    "print(\"string_num\",string_num)"
   ]
  },
  {
   "cell_type": "code",
   "execution_count": null,
   "metadata": {},
   "outputs": [],
   "source": []
  }
 ],
 "metadata": {
  "kernelspec": {
   "display_name": "Python 3",
   "language": "python",
   "name": "python3"
  },
  "language_info": {
   "codemirror_mode": {
    "name": "ipython",
    "version": 3
   },
   "file_extension": ".py",
   "mimetype": "text/x-python",
   "name": "python",
   "nbconvert_exporter": "python",
   "pygments_lexer": "ipython3",
   "version": "3.10.10"
  },
  "orig_nbformat": 4,
  "vscode": {
   "interpreter": {
    "hash": "a42d6bdb4a0b9e59de02b35b8cf70b7761078a95036a2a10c61cbebee154258c"
   }
  }
 },
 "nbformat": 4,
 "nbformat_minor": 2
}
